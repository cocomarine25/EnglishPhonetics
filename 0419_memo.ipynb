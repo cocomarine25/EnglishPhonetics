{
  "nbformat": 4,
  "nbformat_minor": 0,
  "metadata": {
    "colab": {
      "provenance": [],
      "authorship_tag": "ABX9TyNqpN1gm7vZIo4W768OcYtC",
      "include_colab_link": true
    },
    "kernelspec": {
      "name": "python3",
      "display_name": "Python 3"
    },
    "language_info": {
      "name": "python"
    }
  },
  "cells": [
    {
      "cell_type": "markdown",
      "metadata": {
        "id": "view-in-github",
        "colab_type": "text"
      },
      "source": [
        "<a href=\"https://colab.research.google.com/github/cocomarine25/EnglishPhonetics/blob/main/0419_memo.ipynb\" target=\"_parent\"><img src=\"https://colab.research.google.com/assets/colab-badge.svg\" alt=\"Open In Colab\"/></a>"
      ]
    },
    {
      "cell_type": "code",
      "execution_count": null,
      "metadata": {
        "id": "-FToI7aT_NYI"
      },
      "outputs": [],
      "source": []
    },
    {
      "cell_type": "markdown",
      "source": [
        "**<시험 전 정리>**\n",
        "\n",
        "- 딕트는 중요하다.\n",
        "\n",
        "- 함수를 특수 목적별로 나눠 놓은 것이 라이브러리다.\n",
        "\n",
        "- 점은 스칼라, 1차원은(직선) 벡터, 직사각형은 메트릭스, 2차원 이상은 텐서\n",
        "\n",
        "ai에서 숫자를 가지고 하는 모든 것들은\n",
        "\n",
        "\n",
        "\n",
        "- 엑셀에서 핵심적인 것을 심플 텍스트로 가져오는 것을 csv라고 한다.(스텐다드한 데이터 포멧이다.)\n",
        "\n",
        "- 라이라이트가 필요한 것은 json의 형태로 나타낸다.(dict가 csv보다 더 포괄적이다.)\n",
        "\n",
        "- csv가 무엇가를 알아야 하며, 그것을 다루어 주는 것이 pandas다.\n",
        "\n",
        "- pandas는 내 컴퓨터 or 웹에 있는 csv를 가져온다. 불러오는 순간 데이터 포멧이 만들어진다. numpy에서 가져오는 것은 np.array, python에서 가져오는 것은 Pandas.\n",
        "\n",
        "- python에서 한 로우를 뺀다던지, 한 정보를 가져온다던지를 하는 것이 pandas다.\n",
        "\n",
        "<자연어처리>\n",
        "- 자연어는 인공어의 반대말. 인공어의 대표적인 것은 수학식, 컴퓨터 언어 등이 있다.(자연발생하지 않은 언어들) 그럼 한글은 자연발생이 아닌데 왜 자연어인가요? 한글은 언어가 아니라 알파벳이(글자)다. 한글이 나오기 이전에도 한국어는 있었다.(자연 발생)\n",
        "\n",
        "- 자연어에서는 frequence가 중요하다. 어떤 책은 하나의 토큰으로 이루어져 있을 수도 있다. 토크나이즈는 이 책의 내용을 단어와 유사하지만 반드시 단어일 필요는 없는 것들로 나누어주는 것이다.\n",
        "\n",
        "- 리스트는 내부 정보의 순서가 중요하다. 1,2,3과 3,2,1는 다르다. 반면 dict는 내부 정보의 순서가 중요하지 않다. value값은 키로 인해서 정보가 저장되기 때문이다.\n",
        "\n",
        "- 노멀라이즈, 스탑워드 정의\n",
        "\n",
        "- 네귤러 익스프레션(?) 정말 중요함. 이거만 알아도 자연어처리 50퍼는 할 수 있다.\n",
        "\n",
        "- po, s태그, 품사정보, 워드 클라우드(몇 줄로 해주는 것)\n",
        "\n"
      ],
      "metadata": {
        "id": "SQtyA9wA_Pc0"
      }
    },
    {
      "cell_type": "markdown",
      "source": [
        "<웹 사이트 구조>\n",
        "\n",
        "- 웹 이라는 것은 3개로 구성된다.(HTML, CSS, JAVA SCRIPT) -> 웹을 구성하는 세 가지 요소\n",
        "- 전체는 HTML이며 안에 css와 <script 부분인 자바 스크립트로 구성된다.\n",
        "\n",
        "- 그라디오는 웹을 만드는 과정을 생략하고 쉽게 만들어줌\n",
        "\n",
        "<크롤링>\n",
        "- 크롤링은 직접 한번 해보세요.\n",
        "- 개발자 모드(옵션+커멘트+i)로 들어가서 위치를 찾아서 함\n",
        "- 뷰티풀 수프와 셀레니움을 사용\n",
        "- 뷰티풀 수프 : html의 복잡한 화면 속의 element와 그 속에서 내가 무엇을 찾고 싶을 때 어떤 부분이 일치하는지 찾게해 주고 html을 잘 조작할 수 있게 해줌. html이 있으면 바로 사용 가능(?). 고파스에서 원하는 것이 있으면 뷰티풀 수프를 사용하면 돰.\n",
        "\n",
        "- 셀레니움(동적 웹크롤링) : html과 별개로 봇을 사용한다고 생각하면 됨. 로봇에서 뭐가 나오면 어디를 누르고(예를들면 다음페이지 같은거, 로그인 하고 엔터를 누르는 것) 같은 것을 해주는 것.\n",
        "\n"
      ],
      "metadata": {
        "id": "3siDVTLmSGLv"
      }
    },
    {
      "cell_type": "code",
      "source": [],
      "metadata": {
        "id": "exjzrGKe__ph"
      },
      "execution_count": null,
      "outputs": []
    }
  ]
}