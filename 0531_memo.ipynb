{
  "cells": [
    {
      "cell_type": "markdown",
      "metadata": {
        "id": "view-in-github",
        "colab_type": "text"
      },
      "source": [
        "<a href=\"https://colab.research.google.com/github/cocomarine25/EnglishPhonetics/blob/main/0531_memo.ipynb\" target=\"_parent\"><img src=\"https://colab.research.google.com/assets/colab-badge.svg\" alt=\"Open In Colab\"/></a>"
      ]
    },
    {
      "cell_type": "markdown",
      "metadata": {
        "collapsed": true,
        "id": "0zTXTTmP-Dxb"
      },
      "source": [
        "# linear 2"
      ]
    },
    {
      "cell_type": "markdown",
      "source": [
        "일단 지난 중간고사가 변별력이 별로 없어서 이번 기말고사는 어렵게 낼 것이다(20문제, 모두 고르시오)\n",
        "\n",
        "오늘 수업에서 시험 문제가 많이 나올 것이다.\n",
        "\n",
        "Ax = b(Ax --> b)이 공식에 익숙해져야 한다.\n",
        "\n",
        "소문자는 벡터, 대문자는 행렬, x는 입력벡터, b는 출력벡터\n",
        "\n",
        "AI에서 Ax부분은 함수이다.\n",
        "\n",
        "A부분이 반드시 직사각형 일 필요는 없지만 5X3(가로3, 세로5인 직사각형) X 3X1(가로1, 세로3인 직사각형 = 5X1(가로1 세로 5인 직사각형)\n",
        "\n",
        "3X1은 3차원에 존재함\n",
        "\n",
        "5X1은 5차원에 존재함\n",
        "\n",
        "행렬 자체를 차원을 넘나든다고 말할 수 있음. A라는 행렬이 3차원 상에 있는 벡터를 5차원상에 있는 출력벡터로 바꿔줌\n",
        "\n",
        "만약 A가 5X5라면 같은 차원에서 같은 차원으로 보내는 것이다.\n",
        "\n",
        "이 A를 linear(곱하기, 더하기 밖에 없는 것) transformation을 하는 것이다."
      ],
      "metadata": {
        "id": "MKIjYgP4PrEX"
      }
    },
    {
      "cell_type": "markdown",
      "source": [
        "예1)\n",
        "\n"
      ],
      "metadata": {
        "id": "GJ9B-wBvRJdI"
      }
    },
    {
      "cell_type": "code",
      "source": [
        "|0.9  -0.4|   | 1 |   |0.5|\n",
        "|0.4  0.9 |   | 1 |   |1.3|"
      ],
      "metadata": {
        "id": "EM8BTTjpRYmJ"
      },
      "execution_count": null,
      "outputs": []
    },
    {
      "cell_type": "markdown",
      "source": [
        "| 1  0 |\n",
        "\n",
        "| 0  1 |\n",
        "\n",
        "이 행렬은 x, y가 (1,0)과 (0,1)인 두개의 벡터로 생각할 수 있다.(세로 순서로 봐야됨)\n",
        "\n",
        "이것이 가장 기본 행렬이다.\n",
        "\n",
        "original grid이다."
      ],
      "metadata": {
        "id": "GwdKBBxmRn2n"
      }
    },
    {
      "cell_type": "markdown",
      "source": [
        "|0.9  -0.4|\n",
        "\n",
        "|0.4  0.9 |\n",
        "\n",
        "이 행렬은 뒤에 1이랑0으로 이루어진 행렬이 기울어진 느낌이다.\n",
        "\n",
        "x, y가 (0.9, 0.4)랑 (-0.4, 0.9)로 이루어져 있다.\n",
        "\n",
        "transformation grid이다."
      ],
      "metadata": {
        "id": "QuWEt8-ZSjyi"
      }
    },
    {
      "cell_type": "markdown",
      "source": [
        "| 1 |\n",
        "\n",
        "| 1 |\n",
        "\n",
        "이 점이\n",
        "\n",
        "| 0.5 |\n",
        "\n",
        "| 1.3 |\n",
        "\n",
        "의 점이 되는 것이 예1)이다.\n",
        "\n",
        "원래의 그리드에서 (1, 1)이 새로운 그리드 상에서 (0.5, 1.3)인 것이다."
      ],
      "metadata": {
        "id": "iuHbUuFQTPGX"
      }
    },
    {
      "cell_type": "markdown",
      "source": [
        "# detransformation : Inverse matrix"
      ],
      "metadata": {
        "id": "kbWooESsUlGO"
      }
    },
    {
      "cell_type": "markdown",
      "source": [
        "역함수\n",
        "\n",
        "A^-1b = x\n"
      ],
      "metadata": {
        "id": "ElGdeM9qUsGj"
      }
    },
    {
      "cell_type": "markdown",
      "source": [
        "예2)\n",
        "\n"
      ],
      "metadata": {
        "id": "G_tJtmfnVAZD"
      }
    },
    {
      "cell_type": "code",
      "source": [
        "|0.9  -0.4|^-1   | 1 |   |0.5|\n",
        "|0.4  0.9 |      | 1 |   |1.3|"
      ],
      "metadata": {
        "id": "EMACr9u5VDz7"
      },
      "execution_count": null,
      "outputs": []
    },
    {
      "cell_type": "markdown",
      "source": [
        "기본은 오리지날에서 변형된 그리드로 바꾸는 것이지만 역행렬은 (역행렬되기전, 0.9랑 0.4 있는 부분)을 오리지날로 바꾸는 것이다.\n",
        "\n",
        "그래서 (0.5, 1.3)을 (1, 1)로 돌려주는 것\n"
      ],
      "metadata": {
        "id": "HPVarscdVHj2"
      }
    },
    {
      "cell_type": "markdown",
      "source": [
        "예3)\n",
        "\n",
        "만약 변형된 그리드가 1차원의 선 형태의 벡터라면(두 개의 벡터가 같은 선상에 있다면) 역행렬이 존재하지 않는다.\n",
        "\n"
      ],
      "metadata": {
        "id": "uwEI9dU_VadM"
      }
    },
    {
      "cell_type": "markdown",
      "source": [
        "따라서 두 벡터가 만들어내는 평행사변형의 면적이 0이 아니라면 역행렬이 존재한다. 라고 정의한다.\n",
        "\n",
        "역행렬이 존재하는지 아닌지를 행렬에서는 determinant라고 한다.\n",
        "\n",
        "determinant가 0이면 역행렬이 존재하지 않는 것이다.\n",
        "\n",
        "| a  b |\n",
        "\n",
        "| c  d |\n",
        "\n",
        "이렇게 있다면 a곱하기d - b곱하기c를 한 것이 평행사변형의 면적이므로 0이 아니면 된다."
      ],
      "metadata": {
        "id": "o0kGR1A3WGpq"
      }
    },
    {
      "cell_type": "markdown",
      "source": [
        "# eigenvector\n"
      ],
      "metadata": {
        "id": "d8VwJxHfWvXQ"
      }
    },
    {
      "cell_type": "markdown",
      "source": [
        "선형 계수(?)에서 중요한 두 가지는 위에서 설명한 트렌스 벡터랑 아이겐 벡터(중요함)다."
      ],
      "metadata": {
        "id": "6WOe6m3bXDYx"
      }
    },
    {
      "cell_type": "markdown",
      "source": [
        "Av=b\n",
        "\n",
        "A transforms v to b\n",
        "\n",
        "|1.25 0.25|  |1|  = | 1.5 |\n",
        "\n",
        "|0.25   1 |  |1|    |1.25 |\n",
        "\n",
        "위의 식은 처음 정사각형을 찌부시켜서 평행사변형으로 만드는 것이라고 생각하면 된다.\n",
        "\n",
        "아이겐 벡터는 기본 메트릭스에서 어떤 입력벡터 A는 출력벡터 b와 일직선에 놓이는 벡터는 2개가 존재한다는 것이다. (2X2라 두개이고, 3X3은 3개, 4X4는 4개다.)\n",
        "\n",
        "다시말해서 원점과 v와 Av가 일직선상에 놓이게 하는 v를 아이겐 벡터라고 한다. 위의 식에서 아이겐벡터는 2개가 존재한다.\n",
        "\n",
        "사실 아이겐 벡터의 수치상의 개수는 무한대이며 방향은 2개다.(하지만 아이겐 벡터는 2개라고 이야기하는게 맞다.)\n",
        "\n",
        "실제로 원점으로부터 반지름이 1이 되는 단위원을 그리고 그 지점과 만나는 두 점을 아이겐 벡터라고 한다.\n",
        "\n",
        "그리고 이 두개의 아이겐 벡터는 반드시 직각을 이룬다.\n",
        "\n",
        "처음 A행렬(영어, 국어, 수학, 과학)을 90도로 이루어진 두 행렬로 표현하고자 한것(언어, 수리) 이게 중요하다고 함"
      ],
      "metadata": {
        "id": "PTak8JKSXP1U"
      }
    },
    {
      "cell_type": "markdown",
      "source": [
        "eigenvalues는 일직선상(아이겐 벡터 상)에 놓았을 때 0부터 Av까지의 거리를 말한다.\n",
        "\n",
        "이게 어떤 뜻이냐면 두 벡터사이의 비율인데, v를 단위원에 맞춰서 1이라고 하면 Av는 1.x가 나올 것이고 1:1.x의 비율이 된다.\n",
        "\n"
      ],
      "metadata": {
        "id": "hro6DwQ-aAZw"
      }
    }
  ],
  "metadata": {
    "kernelspec": {
      "display_name": "Python 3",
      "language": "python",
      "name": "python3"
    },
    "language_info": {
      "codemirror_mode": {
        "name": "ipython",
        "version": 3
      },
      "file_extension": ".py",
      "mimetype": "text/x-python",
      "name": "python",
      "nbconvert_exporter": "python",
      "pygments_lexer": "ipython3",
      "version": "3.7.1"
    },
    "colab": {
      "provenance": [],
      "include_colab_link": true
    }
  },
  "nbformat": 4,
  "nbformat_minor": 0
}