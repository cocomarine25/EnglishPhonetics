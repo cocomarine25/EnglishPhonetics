{
  "nbformat": 4,
  "nbformat_minor": 0,
  "metadata": {
    "colab": {
      "name": "import.ipynb",
      "provenance": [],
      "include_colab_link": true
    },
    "kernelspec": {
      "name": "python3",
      "display_name": "Python 3"
    },
    "language_info": {
      "name": "python"
    }
  },
  "cells": [
    {
      "cell_type": "markdown",
      "metadata": {
        "id": "view-in-github",
        "colab_type": "text"
      },
      "source": [
        "<a href=\"https://colab.research.google.com/github/cocomarine25/EnglishPhonetics/blob/main/0315_import.ipynb\" target=\"_parent\"><img src=\"https://colab.research.google.com/assets/colab-badge.svg\" alt=\"Open In Colab\"/></a>"
      ]
    },
    {
      "cell_type": "code",
      "metadata": {
        "id": "JXicrkYOzPRo"
      },
      "source": [
        "import numpy as np        # as np를 붙이는 이유는\n",
        "n = np.random.randn(100)"
      ],
      "execution_count": 16,
      "outputs": []
    },
    {
      "cell_type": "code",
      "source": [
        "n.shape\n",
        "# dimension 보는 법"
      ],
      "metadata": {
        "id": "JJn9buL4LfUL",
        "outputId": "51172078-6891-47b0-da4c-d88a5557307c",
        "colab": {
          "base_uri": "https://localhost:8080/"
        }
      },
      "execution_count": 17,
      "outputs": [
        {
          "output_type": "execute_result",
          "data": {
            "text/plain": [
              "(100,)"
            ]
          },
          "metadata": {},
          "execution_count": 17
        }
      ]
    },
    {
      "cell_type": "code",
      "metadata": {
        "id": "oKT4vn4MwyLA",
        "colab": {
          "base_uri": "https://localhost:8080/",
          "height": 519
        },
        "outputId": "2e9b3da3-07fc-4fc2-86d6-4138b65aa5cb"
      },
      "source": [
        "import matplotlib # mat는 공대에서 쓰는 matlab이라는 파이썬의 바이블같은 언어에서 따옴\n",
        "matplotlib.pyplot.hist(n)\n",
        "\n",
        "# 첫번째줄을 보면 random이라서 돌릴 때마다 다른 그림이 나옴"
      ],
      "execution_count": 18,
      "outputs": [
        {
          "output_type": "execute_result",
          "data": {
            "text/plain": [
              "(array([ 8.,  8., 16., 21., 25.,  7.,  8.,  2.,  4.,  1.]),\n",
              " array([-1.76185632, -1.30419925, -0.84654218, -0.38888511,  0.06877196,\n",
              "         0.52642903,  0.9840861 ,  1.44174317,  1.89940023,  2.3570573 ,\n",
              "         2.81471437]),\n",
              " <BarContainer object of 10 artists>)"
            ]
          },
          "metadata": {},
          "execution_count": 18
        },
        {
          "output_type": "display_data",
          "data": {
            "text/plain": [
              "<Figure size 640x480 with 1 Axes>"
            ],
            "image/png": "[encoded data removed]"
          },
          "metadata": {}
        }
      ]
    },
    {
      "cell_type": "code",
      "metadata": {
        "colab": {
          "base_uri": "https://localhost:8080/",
          "height": 519
        },
        "id": "zQJ4LnbA-Hvz",
        "outputId": "c9f19330-f717-41aa-b197-f45e0e5513b1"
      },
      "source": [
        "import matplotlib.pyplot\n",
        "matplotlib.pyplot.hist(n)"
      ],
      "execution_count": 19,
      "outputs": [
        {
          "output_type": "execute_result",
          "data": {
            "text/plain": [
              "(array([ 8.,  8., 16., 21., 25.,  7.,  8.,  2.,  4.,  1.]),\n",
              " array([-1.76185632, -1.30419925, -0.84654218, -0.38888511,  0.06877196,\n",
              "         0.52642903,  0.9840861 ,  1.44174317,  1.89940023,  2.3570573 ,\n",
              "         2.81471437]),\n",
              " <BarContainer object of 10 artists>)"
            ]
          },
          "metadata": {},
          "execution_count": 19
        },
        {
          "output_type": "display_data",
          "data": {
            "text/plain": [
              "<Figure size 640x480 with 1 Axes>"
            ],
            "image/png": "[encoded data removed]"
          },
          "metadata": {}
        }
      ]
    },
    {
      "cell_type": "code",
      "metadata": {
        "id": "AWU6awi53c07",
        "outputId": "7dfdb484-5945-4032-c45c-9c641368d12d",
        "colab": {
          "base_uri": "https://localhost:8080/",
          "height": 519
        }
      },
      "source": [
        "import matplotlib.pyplot as plt\n",
        "plt.hist(n)"
      ],
      "execution_count": 20,
      "outputs": [
        {
          "output_type": "execute_result",
          "data": {
            "text/plain": [
              "(array([ 8.,  8., 16., 21., 25.,  7.,  8.,  2.,  4.,  1.]),\n",
              " array([-1.76185632, -1.30419925, -0.84654218, -0.38888511,  0.06877196,\n",
              "         0.52642903,  0.9840861 ,  1.44174317,  1.89940023,  2.3570573 ,\n",
              "         2.81471437]),\n",
              " <BarContainer object of 10 artists>)"
            ]
          },
          "metadata": {},
          "execution_count": 20
        },
        {
          "output_type": "display_data",
          "data": {
            "text/plain": [
              "<Figure size 640x480 with 1 Axes>"
            ],
            "image/png": "[encoded data removed]"
          },
          "metadata": {}
        }
      ]
    },
    {
      "cell_type": "markdown",
      "source": [
        "## from import를 쓰면 import as처럼 축약해서 부를 수 있는 효과"
      ],
      "metadata": {
        "id": "v1zA2xRWzpdu"
      }
    },
    {
      "cell_type": "code",
      "metadata": {
        "colab": {
          "base_uri": "https://localhost:8080/",
          "height": 519
        },
        "id": "moIjn3Kv-Hqy",
        "outputId": "7f77e2f3-d2bf-4fd1-f572-203256b26b77"
      },
      "source": [
        "from matplotlib import pyplot\n",
        "pyplot.hist(n)"
      ],
      "execution_count": 21,
      "outputs": [
        {
          "output_type": "execute_result",
          "data": {
            "text/plain": [
              "(array([ 8.,  8., 16., 21., 25.,  7.,  8.,  2.,  4.,  1.]),\n",
              " array([-1.76185632, -1.30419925, -0.84654218, -0.38888511,  0.06877196,\n",
              "         0.52642903,  0.9840861 ,  1.44174317,  1.89940023,  2.3570573 ,\n",
              "         2.81471437]),\n",
              " <BarContainer object of 10 artists>)"
            ]
          },
          "metadata": {},
          "execution_count": 21
        },
        {
          "output_type": "display_data",
          "data": {
            "text/plain": [
              "<Figure size 640x480 with 1 Axes>"
            ],
            "image/png": "[encoded data removed]"
          },
          "metadata": {}
        }
      ]
    },
    {
      "cell_type": "code",
      "metadata": {
        "colab": {
          "base_uri": "https://localhost:8080/",
          "height": 519
        },
        "id": "ORo259i7_Uqi",
        "outputId": "6254e966-38ab-4661-ac10-4c84dd7a3c37"
      },
      "source": [
        "from matplotlib.pyplot import hist\n",
        "hist(n)"
      ],
      "execution_count": 22,
      "outputs": [
        {
          "output_type": "execute_result",
          "data": {
            "text/plain": [
              "(array([ 8.,  8., 16., 21., 25.,  7.,  8.,  2.,  4.,  1.]),\n",
              " array([-1.76185632, -1.30419925, -0.84654218, -0.38888511,  0.06877196,\n",
              "         0.52642903,  0.9840861 ,  1.44174317,  1.89940023,  2.3570573 ,\n",
              "         2.81471437]),\n",
              " <BarContainer object of 10 artists>)"
            ]
          },
          "metadata": {},
          "execution_count": 22
        },
        {
          "output_type": "display_data",
          "data": {
            "text/plain": [
              "<Figure size 640x480 with 1 Axes>"
            ],
            "image/png": "[encoded data removed]"
          },
          "metadata": {}
        }
      ]
    },
    {
      "cell_type": "code",
      "source": [],
      "metadata": {
        "id": "SjWW48J-L5ng"
      },
      "execution_count": 22,
      "outputs": []
    }
  ]
}