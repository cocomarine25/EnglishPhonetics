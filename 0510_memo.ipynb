{
  "nbformat": 4,
  "nbformat_minor": 0,
  "metadata": {
    "colab": {
      "provenance": [],
      "authorship_tag": "ABX9TyMR2otm4D3zU46VJDV3yaSQ",
      "include_colab_link": true
    },
    "kernelspec": {
      "name": "python3",
      "display_name": "Python 3"
    },
    "language_info": {
      "name": "python"
    }
  },
  "cells": [
    {
      "cell_type": "markdown",
      "metadata": {
        "id": "view-in-github",
        "colab_type": "text"
      },
      "source": [
        "<a href=\"https://colab.research.google.com/github/cocomarine25/EnglishPhonetics/blob/main/0510_memo.ipynb\" target=\"_parent\"><img src=\"https://colab.research.google.com/assets/colab-badge.svg\" alt=\"Open In Colab\"/></a>"
      ]
    },
    {
      "cell_type": "markdown",
      "source": [
        "오늘과 다음주 수업 중요함\n",
        "\n",
        "meta의 Liama : LLM 모델\n",
        "\n",
        "이전 시간에 어떤 것이 말해졌다면(하나든 서른개든) 그 다음 단어를 알게 된다면 하나하나 물어서 끝까지 알 수 있게 됨\n",
        "\n",
        "next word"
      ],
      "metadata": {
        "id": "SQtyA9wA_Pc0"
      }
    },
    {
      "cell_type": "markdown",
      "source": [
        "---\n",
        "\n",
        "트랜스포머\n",
        "\n",
        "Attention is all you need(논문) - 구글의 논문이지만 실제로 수익을 창출하고 있는 것은 MS의 open AI의 chatGPT, 인기를 끌고 있는 것은 meta의 liama이다.\n",
        "\n",
        "input --> function --> output\n",
        "\n",
        "input --> AI --> output\n",
        "\n",
        "vector는 한 줄 짜리 숫자(당연히 순서가 있음) ex) -1, 2, 0, 6, 0\n",
        "\n",
        "\n",
        "**입력벡터 --> metrix --> 출력벡터 : 이 그림이 머릿속에 들어와 있어야함**\n",
        "\n",
        "텐서까지는 몰라도 되지만 matrix, vertor, scalar는 알아야 함\n",
        "\n",
        "---\n",
        "\n",
        "행렬이 여러개 있으면 어떻게 해야하나? --> 처음 4개 곱하기 3X4\n",
        "\n",
        "deep learning이라는 것은 행렬이 많다는 것을 말한다.(깊은거 아님) 챗지피티는 행렬이 25000개 정도 된다고 함.\n",
        "\n",
        "딥러닝이라는 말이 나온 지 얼마 되지 않음\n",
        "\n",
        "---\n",
        "\n",
        "STT : speech to text\n",
        "\n",
        "openAI의 whisper 등\n",
        "\n",
        "TTS : text to speech\n",
        "\n",
        "안녕하세요 라이나생명 상담원 나영은입니다. 요즘 치아 건강은 어떠세요? 같은거\n",
        "\n",
        "\n",
        "\n",
        "\n"
      ],
      "metadata": {
        "id": "rkydL9sQJcY4"
      }
    },
    {
      "cell_type": "markdown",
      "source": [
        "---\n",
        "\n",
        "오픈AI가 Dall E 3라는 이미지, whisper 음성, chatGPT 텍스트 모든 면에서 최고다.\n",
        "\n",
        "엔비디아의 그래픽카드로 AI가 돌아감\n",
        "\n",
        "그래서 엔비디아와 MS가 시총 1, 2위를 겨룸\n",
        "\n",
        "---\n",
        "\n",
        "\n",
        "\n"
      ],
      "metadata": {
        "id": "o9wbQpDEWYH6"
      }
    }
  ]
}