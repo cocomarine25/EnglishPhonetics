{
  "nbformat": 4,
  "nbformat_minor": 0,
  "metadata": {
    "colab": {
      "provenance": [],
      "include_colab_link": true
    },
    "kernelspec": {
      "name": "python3",
      "display_name": "Python 3"
    },
    "language_info": {
      "name": "python"
    }
  },
  "cells": [
    {
      "cell_type": "markdown",
      "metadata": {
        "id": "view-in-github",
        "colab_type": "text"
      },
      "source": [
        "<a href=\"https://colab.research.google.com/github/cocomarine25/EnglishPhonetics/blob/main/0419_spotify_api.ipynb\" target=\"_parent\"><img src=\"https://colab.research.google.com/assets/colab-badge.svg\" alt=\"Open In Colab\"/></a>"
      ]
    },
    {
      "cell_type": "code",
      "execution_count": 1,
      "metadata": {
        "id": "t-NOmRKs2BxY",
        "outputId": "8edf2892-727f-457c-ba4a-0ac837727c49",
        "colab": {
          "base_uri": "https://localhost:8080/"
        }
      },
      "outputs": [
        {
          "output_type": "stream",
          "name": "stdout",
          "text": [
            "Collecting spotipy\n",
            "  Downloading spotipy-2.23.0-py3-none-any.whl (29 kB)\n",
            "Collecting redis>=3.5.3 (from spotipy)\n",
            "  Downloading redis-5.0.3-py3-none-any.whl (251 kB)\n",
            "\u001b[2K     \u001b[90m━━━━━━━━━━━━━━━━━━━━━━━━━━━━━━━━━━━━━━━━\u001b[0m \u001b[32m251.8/251.8 kB\u001b[0m \u001b[31m5.7 MB/s\u001b[0m eta \u001b[36m0:00:00\u001b[0m\n",
            "\u001b[?25hRequirement already satisfied: requests>=2.25.0 in /usr/local/lib/python3.10/dist-packages (from spotipy) (2.31.0)\n",
            "Requirement already satisfied: six>=1.15.0 in /usr/local/lib/python3.10/dist-packages (from spotipy) (1.16.0)\n",
            "Requirement already satisfied: urllib3>=1.26.0 in /usr/local/lib/python3.10/dist-packages (from spotipy) (2.0.7)\n",
            "Requirement already satisfied: async-timeout>=4.0.3 in /usr/local/lib/python3.10/dist-packages (from redis>=3.5.3->spotipy) (4.0.3)\n",
            "Requirement already satisfied: charset-normalizer<4,>=2 in /usr/local/lib/python3.10/dist-packages (from requests>=2.25.0->spotipy) (3.3.2)\n",
            "Requirement already satisfied: idna<4,>=2.5 in /usr/local/lib/python3.10/dist-packages (from requests>=2.25.0->spotipy) (3.7)\n",
            "Requirement already satisfied: certifi>=2017.4.17 in /usr/local/lib/python3.10/dist-packages (from requests>=2.25.0->spotipy) (2024.2.2)\n",
            "Installing collected packages: redis, spotipy\n",
            "Successfully installed redis-5.0.3 spotipy-2.23.0\n"
          ]
        }
      ],
      "source": [
        "# 딕트라는 것을 가장 심화적으로 했을 때 배울 수 있는 것이다.\n",
        "!pip install spotipy    # spotify가 아니라 spotipy다\n",
        "from spotipy.oauth2 import SpotifyClientCredentials\n",
        "import spotipy\n",
        "\n",
        "client_id = \"67e6a2bc931d43b3a3464a06529fb351\"\n",
        "client_secret = \"7b50cf8d7f3b43e9811580324714c194\"\n",
        "\n",
        "client_credentials_manager = SpotifyClientCredentials(client_id=client_id, client_secret=client_secret)\n",
        "sp = spotipy.Spotify(client_credentials_manager=client_credentials_manager)"
      ]
    },
    {
      "cell_type": "code",
      "source": [
        "results = sp.search('coldplay', type='album', market  = 'us')\n",
        "# type은 앨범 혹은 노래 등, market은 국가\n",
        "# spoticy 서버에서 데이터를 가져오는 것\n",
        "results\n",
        "# 딕트와 json 형태로 되어 있다"
      ],
      "metadata": {
        "id": "I_Ix_Cej8pfM",
        "outputId": "be9d0f79-2be9-4903-daa2-dcb23db5974e",
        "colab": {
          "base_uri": "https://localhost:8080/"
        }
      },
      "execution_count": 6,
      "outputs": [
        {
          "output_type": "execute_result",
          "data": {
            "text/plain": [
              "{'albums': {'href': 'https://api.spotify.com/v1/search?query=coldplay&type=album&market=US&offset=0&limit=10',\n",
              "  'items': [{'album_type': 'album',\n",
              "    'artists': [{'external_urls': {'spotify': 'https://open.spotify.com/artist/4gzpq5DPGxSnKTe4SA8HAU'},\n",
              "      'href': 'https://api.spotify.com/v1/artists/4gzpq5DPGxSnKTe4SA8HAU',\n",
              "      'id': '4gzpq5DPGxSnKTe4SA8HAU',\n",
              "      'name': 'Coldplay',\n",
              "      'type': 'artist',\n",
              "      'uri': 'spotify:artist:4gzpq5DPGxSnKTe4SA8HAU'}],\n",
              "    'external_urls': {'spotify': 'https://open.spotify.com/album/6ZG5lRT77aJ3btmArcykra'},\n",
              "    'href': 'https://api.spotify.com/v1/albums/6ZG5lRT77aJ3btmArcykra',\n",
              "    'id': '6ZG5lRT77aJ3btmArcykra',\n",
              "    'images': [{'height': 640,\n",
              "      'url': 'https://i.scdn.co/image/ab67616d0000b2733d92b2ad5af9fbc8637425f0',\n",
              "      'width': 640},\n",
              "     {'height': 300,\n",
              "      'url': 'https://i.scdn.co/image/ab67616d00001e023d92b2ad5af9fbc8637425f0',\n",
              "      'width': 300},\n",
              "     {'height': 64,\n",
              "      'url': 'https://i.scdn.co/image/ab67616d000048513d92b2ad5af9fbc8637425f0',\n",
              "      'width': 64}],\n",
              "    'is_playable': True,\n",
              "    'name': 'Parachutes',\n",
              "    'release_date': '2000-07-10',\n",
              "    'release_date_precision': 'day',\n",
              "    'total_tracks': 10,\n",
              "    'type': 'album',\n",
              "    'uri': 'spotify:album:6ZG5lRT77aJ3btmArcykra'},\n",
              "   {'album_type': 'single',\n",
              "    'artists': [{'external_urls': {'spotify': 'https://open.spotify.com/artist/4UMdMMSaFPJkjwbDOfbZwT'},\n",
              "      'href': 'https://api.spotify.com/v1/artists/4UMdMMSaFPJkjwbDOfbZwT',\n",
              "      'id': '4UMdMMSaFPJkjwbDOfbZwT',\n",
              "      'name': 'Ghost the Kid',\n",
              "      'type': 'artist',\n",
              "      'uri': 'spotify:artist:4UMdMMSaFPJkjwbDOfbZwT'}],\n",
              "    'external_urls': {'spotify': 'https://open.spotify.com/album/3jo5jz00PqwuGf7iWmSEK0'},\n",
              "    'href': 'https://api.spotify.com/v1/albums/3jo5jz00PqwuGf7iWmSEK0',\n",
              "    'id': '3jo5jz00PqwuGf7iWmSEK0',\n",
              "    'images': [{'height': 640,\n",
              "      'url': 'https://i.scdn.co/image/ab67616d0000b2733cd35a6626491329e73f4932',\n",
              "      'width': 640},\n",
              "     {'height': 300,\n",
              "      'url': 'https://i.scdn.co/image/ab67616d00001e023cd35a6626491329e73f4932',\n",
              "      'width': 300},\n",
              "     {'height': 64,\n",
              "      'url': 'https://i.scdn.co/image/ab67616d000048513cd35a6626491329e73f4932',\n",
              "      'width': 64}],\n",
              "    'is_playable': True,\n",
              "    'name': 'COLDPLAY',\n",
              "    'release_date': '2024-04-19',\n",
              "    'release_date_precision': 'day',\n",
              "    'total_tracks': 1,\n",
              "    'type': 'album',\n",
              "    'uri': 'spotify:album:3jo5jz00PqwuGf7iWmSEK0'},\n",
              "   {'album_type': 'album',\n",
              "    'artists': [{'external_urls': {'spotify': 'https://open.spotify.com/artist/4gzpq5DPGxSnKTe4SA8HAU'},\n",
              "      'href': 'https://api.spotify.com/v1/artists/4gzpq5DPGxSnKTe4SA8HAU',\n",
              "      'id': '4gzpq5DPGxSnKTe4SA8HAU',\n",
              "      'name': 'Coldplay',\n",
              "      'type': 'artist',\n",
              "      'uri': 'spotify:artist:4gzpq5DPGxSnKTe4SA8HAU'}],\n",
              "    'external_urls': {'spotify': 'https://open.spotify.com/album/0RHX9XECH8IVI3LNgWDpmQ'},\n",
              "    'href': 'https://api.spotify.com/v1/albums/0RHX9XECH8IVI3LNgWDpmQ',\n",
              "    'id': '0RHX9XECH8IVI3LNgWDpmQ',\n",
              "    'images': [{'height': 640,\n",
              "      'url': 'https://i.scdn.co/image/ab67616d0000b273de09e02aa7febf30b7c02d82',\n",
              "      'width': 640},\n",
              "     {'height': 300,\n",
              "      'url': 'https://i.scdn.co/image/ab67616d00001e02de09e02aa7febf30b7c02d82',\n",
              "      'width': 300},\n",
              "     {'height': 64,\n",
              "      'url': 'https://i.scdn.co/image/ab67616d00004851de09e02aa7febf30b7c02d82',\n",
              "      'width': 64}],\n",
              "    'is_playable': True,\n",
              "    'name': 'A Rush of Blood to the Head',\n",
              "    'release_date': '2002-08-08',\n",
              "    'release_date_precision': 'day',\n",
              "    'total_tracks': 11,\n",
              "    'type': 'album',\n",
              "    'uri': 'spotify:album:0RHX9XECH8IVI3LNgWDpmQ'},\n",
              "   {'album_type': 'album',\n",
              "    'artists': [{'external_urls': {'spotify': 'https://open.spotify.com/artist/4gzpq5DPGxSnKTe4SA8HAU'},\n",
              "      'href': 'https://api.spotify.com/v1/artists/4gzpq5DPGxSnKTe4SA8HAU',\n",
              "      'id': '4gzpq5DPGxSnKTe4SA8HAU',\n",
              "      'name': 'Coldplay',\n",
              "      'type': 'artist',\n",
              "      'uri': 'spotify:artist:4gzpq5DPGxSnKTe4SA8HAU'}],\n",
              "    'external_urls': {'spotify': 'https://open.spotify.com/album/4E7bV0pzG0LciBSWTszra6'},\n",
              "    'href': 'https://api.spotify.com/v1/albums/4E7bV0pzG0LciBSWTszra6',\n",
              "    'id': '4E7bV0pzG0LciBSWTszra6',\n",
              "    'images': [{'height': 640,\n",
              "      'url': 'https://i.scdn.co/image/ab67616d0000b2734e0362c225863f6ae2432651',\n",
              "      'width': 640},\n",
              "     {'height': 300,\n",
              "      'url': 'https://i.scdn.co/image/ab67616d00001e024e0362c225863f6ae2432651',\n",
              "      'width': 300},\n",
              "     {'height': 64,\n",
              "      'url': 'https://i.scdn.co/image/ab67616d000048514e0362c225863f6ae2432651',\n",
              "      'width': 64}],\n",
              "    'is_playable': True,\n",
              "    'name': 'X&Y',\n",
              "    'release_date': '2005-06-07',\n",
              "    'release_date_precision': 'day',\n",
              "    'total_tracks': 13,\n",
              "    'type': 'album',\n",
              "    'uri': 'spotify:album:4E7bV0pzG0LciBSWTszra6'},\n",
              "   {'album_type': 'album',\n",
              "    'artists': [{'external_urls': {'spotify': 'https://open.spotify.com/artist/4gzpq5DPGxSnKTe4SA8HAU'},\n",
              "      'href': 'https://api.spotify.com/v1/artists/4gzpq5DPGxSnKTe4SA8HAU',\n",
              "      'id': '4gzpq5DPGxSnKTe4SA8HAU',\n",
              "      'name': 'Coldplay',\n",
              "      'type': 'artist',\n",
              "      'uri': 'spotify:artist:4gzpq5DPGxSnKTe4SA8HAU'}],\n",
              "    'external_urls': {'spotify': 'https://open.spotify.com/album/2G4AUqfwxcV1UdQjm2ouYr'},\n",
              "    'href': 'https://api.spotify.com/v1/albums/2G4AUqfwxcV1UdQjm2ouYr',\n",
              "    'id': '2G4AUqfwxcV1UdQjm2ouYr',\n",
              "    'images': [{'height': 640,\n",
              "      'url': 'https://i.scdn.co/image/ab67616d0000b273e5a95573f1b91234630fd2cf',\n",
              "      'width': 640},\n",
              "     {'height': 300,\n",
              "      'url': 'https://i.scdn.co/image/ab67616d00001e02e5a95573f1b91234630fd2cf',\n",
              "      'width': 300},\n",
              "     {'height': 64,\n",
              "      'url': 'https://i.scdn.co/image/ab67616d00004851e5a95573f1b91234630fd2cf',\n",
              "      'width': 64}],\n",
              "    'is_playable': True,\n",
              "    'name': 'Ghost Stories',\n",
              "    'release_date': '2014-05-19',\n",
              "    'release_date_precision': 'day',\n",
              "    'total_tracks': 9,\n",
              "    'type': 'album',\n",
              "    'uri': 'spotify:album:2G4AUqfwxcV1UdQjm2ouYr'},\n",
              "   {'album_type': 'album',\n",
              "    'artists': [{'external_urls': {'spotify': 'https://open.spotify.com/artist/4gzpq5DPGxSnKTe4SA8HAU'},\n",
              "      'href': 'https://api.spotify.com/v1/artists/4gzpq5DPGxSnKTe4SA8HAU',\n",
              "      'id': '4gzpq5DPGxSnKTe4SA8HAU',\n",
              "      'name': 'Coldplay',\n",
              "      'type': 'artist',\n",
              "      'uri': 'spotify:artist:4gzpq5DPGxSnKTe4SA8HAU'}],\n",
              "    'external_urls': {'spotify': 'https://open.spotify.com/album/19CvkGjYpifkdwgVJSbog2'},\n",
              "    'href': 'https://api.spotify.com/v1/albums/19CvkGjYpifkdwgVJSbog2',\n",
              "    'id': '19CvkGjYpifkdwgVJSbog2',\n",
              "    'images': [{'height': 640,\n",
              "      'url': 'https://i.scdn.co/image/ab67616d0000b273fe5f1f4d742869a253036971',\n",
              "      'width': 640},\n",
              "     {'height': 300,\n",
              "      'url': 'https://i.scdn.co/image/ab67616d00001e02fe5f1f4d742869a253036971',\n",
              "      'width': 300},\n",
              "     {'height': 64,\n",
              "      'url': 'https://i.scdn.co/image/ab67616d00004851fe5f1f4d742869a253036971',\n",
              "      'width': 64}],\n",
              "    'is_playable': True,\n",
              "    'name': 'Live in Buenos Aires',\n",
              "    'release_date': '2018-12-07',\n",
              "    'release_date_precision': 'day',\n",
              "    'total_tracks': 24,\n",
              "    'type': 'album',\n",
              "    'uri': 'spotify:album:19CvkGjYpifkdwgVJSbog2'},\n",
              "   {'album_type': 'album',\n",
              "    'artists': [{'external_urls': {'spotify': 'https://open.spotify.com/artist/4gzpq5DPGxSnKTe4SA8HAU'},\n",
              "      'href': 'https://api.spotify.com/v1/artists/4gzpq5DPGxSnKTe4SA8HAU',\n",
              "      'id': '4gzpq5DPGxSnKTe4SA8HAU',\n",
              "      'name': 'Coldplay',\n",
              "      'type': 'artist',\n",
              "      'uri': 'spotify:artist:4gzpq5DPGxSnKTe4SA8HAU'}],\n",
              "    'external_urls': {'spotify': 'https://open.spotify.com/album/2R7iJz5uaHjLEVnMkloO18'},\n",
              "    'href': 'https://api.spotify.com/v1/albums/2R7iJz5uaHjLEVnMkloO18',\n",
              "    'id': '2R7iJz5uaHjLEVnMkloO18',\n",
              "    'images': [{'height': 640,\n",
              "      'url': 'https://i.scdn.co/image/ab67616d0000b273de0cd11d7b31c3bd1fd5983d',\n",
              "      'width': 640},\n",
              "     {'height': 300,\n",
              "      'url': 'https://i.scdn.co/image/ab67616d00001e02de0cd11d7b31c3bd1fd5983d',\n",
              "      'width': 300},\n",
              "     {'height': 64,\n",
              "      'url': 'https://i.scdn.co/image/ab67616d00004851de0cd11d7b31c3bd1fd5983d',\n",
              "      'width': 64}],\n",
              "    'is_playable': True,\n",
              "    'name': 'Mylo Xyloto',\n",
              "    'release_date': '2011-10-24',\n",
              "    'release_date_precision': 'day',\n",
              "    'total_tracks': 14,\n",
              "    'type': 'album',\n",
              "    'uri': 'spotify:album:2R7iJz5uaHjLEVnMkloO18'},\n",
              "   {'album_type': 'album',\n",
              "    'artists': [{'external_urls': {'spotify': 'https://open.spotify.com/artist/4gzpq5DPGxSnKTe4SA8HAU'},\n",
              "      'href': 'https://api.spotify.com/v1/artists/4gzpq5DPGxSnKTe4SA8HAU',\n",
              "      'id': '4gzpq5DPGxSnKTe4SA8HAU',\n",
              "      'name': 'Coldplay',\n",
              "      'type': 'artist',\n",
              "      'uri': 'spotify:artist:4gzpq5DPGxSnKTe4SA8HAU'}],\n",
              "    'external_urls': {'spotify': 'https://open.spotify.com/album/1CEODgTmTwLyabvwd7HBty'},\n",
              "    'href': 'https://api.spotify.com/v1/albums/1CEODgTmTwLyabvwd7HBty',\n",
              "    'id': '1CEODgTmTwLyabvwd7HBty',\n",
              "    'images': [{'height': 640,\n",
              "      'url': 'https://i.scdn.co/image/ab67616d0000b273e21cc1db05580b6f2d2a3b6e',\n",
              "      'width': 640},\n",
              "     {'height': 300,\n",
              "      'url': 'https://i.scdn.co/image/ab67616d00001e02e21cc1db05580b6f2d2a3b6e',\n",
              "      'width': 300},\n",
              "     {'height': 64,\n",
              "      'url': 'https://i.scdn.co/image/ab67616d00004851e21cc1db05580b6f2d2a3b6e',\n",
              "      'width': 64}],\n",
              "    'is_playable': True,\n",
              "    'name': 'Viva La Vida or Death and All His Friends',\n",
              "    'release_date': '2008-05-26',\n",
              "    'release_date_precision': 'day',\n",
              "    'total_tracks': 10,\n",
              "    'type': 'album',\n",
              "    'uri': 'spotify:album:1CEODgTmTwLyabvwd7HBty'},\n",
              "   {'album_type': 'album',\n",
              "    'artists': [{'external_urls': {'spotify': 'https://open.spotify.com/artist/4gzpq5DPGxSnKTe4SA8HAU'},\n",
              "      'href': 'https://api.spotify.com/v1/artists/4gzpq5DPGxSnKTe4SA8HAU',\n",
              "      'id': '4gzpq5DPGxSnKTe4SA8HAU',\n",
              "      'name': 'Coldplay',\n",
              "      'type': 'artist',\n",
              "      'uri': 'spotify:artist:4gzpq5DPGxSnKTe4SA8HAU'}],\n",
              "    'external_urls': {'spotify': 'https://open.spotify.com/album/3cfAM8b8KqJRoIzt3zLKqw'},\n",
              "    'href': 'https://api.spotify.com/v1/albums/3cfAM8b8KqJRoIzt3zLKqw',\n",
              "    'id': '3cfAM8b8KqJRoIzt3zLKqw',\n",
              "    'images': [{'height': 640,\n",
              "      'url': 'https://i.scdn.co/image/ab67616d0000b2738ff7c3580d429c8212b9a3b6',\n",
              "      'width': 640},\n",
              "     {'height': 300,\n",
              "      'url': 'https://i.scdn.co/image/ab67616d00001e028ff7c3580d429c8212b9a3b6',\n",
              "      'width': 300},\n",
              "     {'height': 64,\n",
              "      'url': 'https://i.scdn.co/image/ab67616d000048518ff7c3580d429c8212b9a3b6',\n",
              "      'width': 64}],\n",
              "    'is_playable': True,\n",
              "    'name': 'A Head Full of Dreams',\n",
              "    'release_date': '2015-12-04',\n",
              "    'release_date_precision': 'day',\n",
              "    'total_tracks': 11,\n",
              "    'type': 'album',\n",
              "    'uri': 'spotify:album:3cfAM8b8KqJRoIzt3zLKqw'},\n",
              "   {'album_type': 'album',\n",
              "    'artists': [{'external_urls': {'spotify': 'https://open.spotify.com/artist/4gzpq5DPGxSnKTe4SA8HAU'},\n",
              "      'href': 'https://api.spotify.com/v1/artists/4gzpq5DPGxSnKTe4SA8HAU',\n",
              "      'id': '4gzpq5DPGxSnKTe4SA8HAU',\n",
              "      'name': 'Coldplay',\n",
              "      'type': 'artist',\n",
              "      'uri': 'spotify:artist:4gzpq5DPGxSnKTe4SA8HAU'}],\n",
              "    'external_urls': {'spotify': 'https://open.spotify.com/album/4XTT0NcNHyvl6h9JX2AfEi'},\n",
              "    'href': 'https://api.spotify.com/v1/albums/4XTT0NcNHyvl6h9JX2AfEi',\n",
              "    'id': '4XTT0NcNHyvl6h9JX2AfEi',\n",
              "    'images': [{'height': 640,\n",
              "      'url': 'https://i.scdn.co/image/ab67616d0000b2730de348af6c3e533f24c99472',\n",
              "      'width': 640},\n",
              "     {'height': 300,\n",
              "      'url': 'https://i.scdn.co/image/ab67616d00001e020de348af6c3e533f24c99472',\n",
              "      'width': 300},\n",
              "     {'height': 64,\n",
              "      'url': 'https://i.scdn.co/image/ab67616d000048510de348af6c3e533f24c99472',\n",
              "      'width': 64}],\n",
              "    'is_playable': True,\n",
              "    'name': \"Viva La Vida (Prospekt's March Edition)\",\n",
              "    'release_date': '2008-11-24',\n",
              "    'release_date_precision': 'day',\n",
              "    'total_tracks': 18,\n",
              "    'type': 'album',\n",
              "    'uri': 'spotify:album:4XTT0NcNHyvl6h9JX2AfEi'}],\n",
              "  'limit': 10,\n",
              "  'next': 'https://api.spotify.com/v1/search?query=coldplay&type=album&market=US&offset=10&limit=10',\n",
              "  'offset': 0,\n",
              "  'previous': None,\n",
              "  'total': 243}}"
            ]
          },
          "metadata": {},
          "execution_count": 6
        }
      ]
    },
    {
      "cell_type": "code",
      "source": [
        "print(results.keys())\n",
        "print(results['albums'].keys())\n",
        "print(results['albums']['items'][0])\n",
        "uri = results['albums']['items'][0]['uri']"
      ],
      "metadata": {
        "id": "m2zHeslt_Y-f",
        "outputId": "25539a88-9365-4764-be78-af9d786e4370",
        "colab": {
          "base_uri": "https://localhost:8080/"
        }
      },
      "execution_count": 3,
      "outputs": [
        {
          "output_type": "stream",
          "name": "stdout",
          "text": [
            "dict_keys(['albums'])\n",
            "dict_keys(['href', 'items', 'limit', 'next', 'offset', 'previous', 'total'])\n",
            "{'album_type': 'album', 'artists': [{'external_urls': {'spotify': 'https://open.spotify.com/artist/4gzpq5DPGxSnKTe4SA8HAU'}, 'href': 'https://api.spotify.com/v1/artists/4gzpq5DPGxSnKTe4SA8HAU', 'id': '4gzpq5DPGxSnKTe4SA8HAU', 'name': 'Coldplay', 'type': 'artist', 'uri': 'spotify:artist:4gzpq5DPGxSnKTe4SA8HAU'}], 'external_urls': {'spotify': 'https://open.spotify.com/album/6ZG5lRT77aJ3btmArcykra'}, 'href': 'https://api.spotify.com/v1/albums/6ZG5lRT77aJ3btmArcykra', 'id': '6ZG5lRT77aJ3btmArcykra', 'images': [{'height': 640, 'url': 'https://i.scdn.co/image/ab67616d0000b2733d92b2ad5af9fbc8637425f0', 'width': 640}, {'height': 300, 'url': 'https://i.scdn.co/image/ab67616d00001e023d92b2ad5af9fbc8637425f0', 'width': 300}, {'height': 64, 'url': 'https://i.scdn.co/image/ab67616d000048513d92b2ad5af9fbc8637425f0', 'width': 64}], 'is_playable': True, 'name': 'Parachutes', 'release_date': '2000-07-10', 'release_date_precision': 'day', 'total_tracks': 10, 'type': 'album', 'uri': 'spotify:album:6ZG5lRT77aJ3btmArcykra'}\n"
          ]
        }
      ]
    },
    {
      "cell_type": "code",
      "source": [
        "results = sp.album(uri, market  = 'us')\n",
        "print(results.keys())\n",
        "print(results['tracks']['items'][0])\n",
        "print(results['tracks']['items'][0]['name'])\n",
        "print(results['tracks']['items'][0]['preview_url'])\n",
        "uri = results['tracks']['items'][0]['uri']"
      ],
      "metadata": {
        "id": "SebOK7DPCyAP",
        "outputId": "86b4f725-a905-4af2-b055-991c0863cde2",
        "colab": {
          "base_uri": "https://localhost:8080/"
        }
      },
      "execution_count": 7,
      "outputs": [
        {
          "output_type": "stream",
          "name": "stdout",
          "text": [
            "dict_keys(['album_type', 'artists', 'copyrights', 'external_ids', 'external_urls', 'genres', 'href', 'id', 'images', 'is_playable', 'label', 'name', 'popularity', 'release_date', 'release_date_precision', 'total_tracks', 'tracks', 'type', 'uri'])\n",
            "{'artists': [{'external_urls': {'spotify': 'https://open.spotify.com/artist/4gzpq5DPGxSnKTe4SA8HAU'}, 'href': 'https://api.spotify.com/v1/artists/4gzpq5DPGxSnKTe4SA8HAU', 'id': '4gzpq5DPGxSnKTe4SA8HAU', 'name': 'Coldplay', 'type': 'artist', 'uri': 'spotify:artist:4gzpq5DPGxSnKTe4SA8HAU'}], 'disc_number': 1, 'duration_ms': 136866, 'explicit': False, 'external_urls': {'spotify': 'https://open.spotify.com/track/2QhURnm7mQDxBb5jWkbDug'}, 'href': 'https://api.spotify.com/v1/tracks/2QhURnm7mQDxBb5jWkbDug', 'id': '2QhURnm7mQDxBb5jWkbDug', 'is_local': False, 'is_playable': True, 'name': \"Don't Panic\", 'preview_url': 'https://p.scdn.co/mp3-preview/c7db43ba594e878a6471341da462fbbe8eb96e42?cid=67e6a2bc931d43b3a3464a06529fb351', 'track_number': 1, 'type': 'track', 'uri': 'spotify:track:2QhURnm7mQDxBb5jWkbDug'}\n",
            "Don't Panic\n",
            "https://p.scdn.co/mp3-preview/c7db43ba594e878a6471341da462fbbe8eb96e42?cid=67e6a2bc931d43b3a3464a06529fb351\n"
          ]
        }
      ]
    },
    {
      "cell_type": "code",
      "source": [
        "results = sp.audio_analysis(uri)    # 한 트랙의 오디오를 전부 분석\n",
        "print(results.keys())\n",
        "results['meta']"
      ],
      "metadata": {
        "id": "Urwp5wGj9eqL",
        "outputId": "300256e1-a095-46c2-ec03-8e09d3ed1540",
        "colab": {
          "base_uri": "https://localhost:8080/"
        }
      },
      "execution_count": 8,
      "outputs": [
        {
          "output_type": "stream",
          "name": "stdout",
          "text": [
            "dict_keys(['meta', 'track', 'bars', 'beats', 'sections', 'segments', 'tatums'])\n"
          ]
        },
        {
          "output_type": "execute_result",
          "data": {
            "text/plain": [
              "{'analyzer_version': '4.0.0',\n",
              " 'platform': 'Linux',\n",
              " 'detailed_status': 'OK',\n",
              " 'status_code': 0,\n",
              " 'timestamp': 1604529316,\n",
              " 'analysis_time': 5.69552,\n",
              " 'input_process': 'libvorbisfile L+R 44100->22050'}"
            ]
          },
          "metadata": {},
          "execution_count": 8
        }
      ]
    },
    {
      "cell_type": "code",
      "source": [
        "results = sp.audio_features(uri)\n",
        "results"
      ],
      "metadata": {
        "id": "BKpQU_yv_XNy",
        "outputId": "fd8d4f89-4493-419e-ff08-683059796c72",
        "colab": {
          "base_uri": "https://localhost:8080/"
        }
      },
      "execution_count": 9,
      "outputs": [
        {
          "output_type": "execute_result",
          "data": {
            "text/plain": [
              "[{'danceability': 0.602,\n",
              "  'energy': 0.612,\n",
              "  'key': 0,\n",
              "  'loudness': -8.409,\n",
              "  'mode': 1,\n",
              "  'speechiness': 0.0335,\n",
              "  'acousticness': 0.206,\n",
              "  'instrumentalness': 0.00607,\n",
              "  'liveness': 0.107,\n",
              "  'valence': 0.453,\n",
              "  'tempo': 122.062,\n",
              "  'type': 'audio_features',\n",
              "  'id': '2QhURnm7mQDxBb5jWkbDug',\n",
              "  'uri': 'spotify:track:2QhURnm7mQDxBb5jWkbDug',\n",
              "  'track_href': 'https://api.spotify.com/v1/tracks/2QhURnm7mQDxBb5jWkbDug',\n",
              "  'analysis_url': 'https://api.spotify.com/v1/audio-analysis/2QhURnm7mQDxBb5jWkbDug',\n",
              "  'duration_ms': 136867,\n",
              "  'time_signature': 4}]"
            ]
          },
          "metadata": {},
          "execution_count": 9
        }
      ]
    },
    {
      "cell_type": "code",
      "source": [
        "results = sp.search('coldplay', type = 'artist')\n",
        "print(results.keys())\n",
        "print(results['artists']['items'][0]['uri'])\n",
        "uri = results['artists']['items'][0]['uri']"
      ],
      "metadata": {
        "id": "d0DkUfnxD2Ul",
        "outputId": "62a38322-2d91-439d-da84-fa8cce6312f5",
        "colab": {
          "base_uri": "https://localhost:8080/"
        }
      },
      "execution_count": 10,
      "outputs": [
        {
          "output_type": "stream",
          "name": "stdout",
          "text": [
            "dict_keys(['artists'])\n",
            "spotify:artist:4gzpq5DPGxSnKTe4SA8HAU\n"
          ]
        }
      ]
    },
    {
      "cell_type": "code",
      "source": [
        "results = sp.artist_top_tracks(uri)\n",
        "for track in results['tracks'][:5]:\n",
        "    print('track    : ' + track['name'])\n",
        "    print('audio    : ' + track['preview_url'])\n",
        "    print('cover art: ' + track['album']['images'][0]['url'])\n",
        "    print()"
      ],
      "metadata": {
        "id": "7RJp3n7JSTGh",
        "outputId": "5966c302-3306-40f8-e15d-fee65f8dbd4f",
        "colab": {
          "base_uri": "https://localhost:8080/"
        }
      },
      "execution_count": 11,
      "outputs": [
        {
          "output_type": "stream",
          "name": "stdout",
          "text": [
            "track    : Yellow\n",
            "audio    : https://p.scdn.co/mp3-preview/c0d9119dc69cae75baf6463e21e43f433fdf5ff4?cid=67e6a2bc931d43b3a3464a06529fb351\n",
            "cover art: https://i.scdn.co/image/ab67616d0000b2733d92b2ad5af9fbc8637425f0\n",
            "\n",
            "track    : Viva La Vida\n",
            "audio    : https://p.scdn.co/mp3-preview/fb9f4a9b0887326776b4fb7c6d331acd167a7778?cid=67e6a2bc931d43b3a3464a06529fb351\n",
            "cover art: https://i.scdn.co/image/ab67616d0000b273e21cc1db05580b6f2d2a3b6e\n",
            "\n",
            "track    : Something Just Like This\n",
            "audio    : https://p.scdn.co/mp3-preview/4e117abe76700eb13e9e0557fa2d9c44b565b9da?cid=67e6a2bc931d43b3a3464a06529fb351\n",
            "cover art: https://i.scdn.co/image/ab67616d0000b2730c13d3d5a503c84fcc60ae94\n",
            "\n",
            "track    : Sparks\n",
            "audio    : https://p.scdn.co/mp3-preview/4ffce9684e191005c15ab6ce31540fcec78eaacf?cid=67e6a2bc931d43b3a3464a06529fb351\n",
            "cover art: https://i.scdn.co/image/ab67616d0000b2733d92b2ad5af9fbc8637425f0\n",
            "\n",
            "track    : The Scientist\n",
            "audio    : https://p.scdn.co/mp3-preview/cb283ce76eeee06a724b942d36a140cc088dd50f?cid=67e6a2bc931d43b3a3464a06529fb351\n",
            "cover art: https://i.scdn.co/image/ab67616d0000b273de09e02aa7febf30b7c02d82\n",
            "\n"
          ]
        }
      ]
    },
    {
      "cell_type": "code",
      "source": [
        "results = sp.artist_albums(uri)\n",
        "print(results.keys())\n",
        "print(results['items'][0]['uri'])\n",
        "uri = results['items'][0]['uri']"
      ],
      "metadata": {
        "id": "xLZDJXg0XmOC",
        "outputId": "be53a325-497f-45ec-d55b-7bd1ef7e73c5",
        "colab": {
          "base_uri": "https://localhost:8080/"
        }
      },
      "execution_count": 12,
      "outputs": [
        {
          "output_type": "stream",
          "name": "stdout",
          "text": [
            "dict_keys(['href', 'items', 'limit', 'next', 'offset', 'previous', 'total'])\n",
            "spotify:album:06mXfvDsRZNfnsGZvX2zpb\n"
          ]
        }
      ]
    },
    {
      "cell_type": "code",
      "source": [
        "results = sp.album(uri)\n",
        "print(results.keys())\n",
        "print(results['name'])"
      ],
      "metadata": {
        "id": "NwR2A8tiozKU",
        "outputId": "506c38ec-29f4-4824-d9f5-bfee5d9da0bf",
        "colab": {
          "base_uri": "https://localhost:8080/"
        }
      },
      "execution_count": 13,
      "outputs": [
        {
          "output_type": "stream",
          "name": "stdout",
          "text": [
            "dict_keys(['album_type', 'artists', 'available_markets', 'copyrights', 'external_ids', 'external_urls', 'genres', 'href', 'id', 'images', 'label', 'name', 'popularity', 'release_date', 'release_date_precision', 'total_tracks', 'tracks', 'type', 'uri'])\n",
            "Music Of The Spheres\n"
          ]
        }
      ]
    },
    {
      "cell_type": "code",
      "source": [],
      "metadata": {
        "id": "SSsV-D-ZEiFV"
      },
      "execution_count": null,
      "outputs": []
    }
  ]
}