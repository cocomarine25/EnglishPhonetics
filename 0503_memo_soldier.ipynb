{
  "nbformat": 4,
  "nbformat_minor": 0,
  "metadata": {
    "colab": {
      "provenance": [],
      "authorship_tag": "ABX9TyNyCtqAdNWrsi2i8GpthIAj",
      "include_colab_link": true
    },
    "kernelspec": {
      "name": "python3",
      "display_name": "Python 3"
    },
    "language_info": {
      "name": "python"
    }
  },
  "cells": [
    {
      "cell_type": "markdown",
      "metadata": {
        "id": "view-in-github",
        "colab_type": "text"
      },
      "source": [
        "<a href=\"https://colab.research.google.com/github/cocomarine25/EnglishPhonetics/blob/main/0503_memo_soldier.ipynb\" target=\"_parent\"><img src=\"https://colab.research.google.com/assets/colab-badge.svg\" alt=\"Open In Colab\"/></a>"
      ]
    },
    {
      "cell_type": "markdown",
      "source": [
        "** 예비군 다녀옴 **"
      ],
      "metadata": {
        "id": "SQtyA9wA_Pc0"
      }
    },
    {
      "cell_type": "code",
      "source": [],
      "metadata": {
        "id": "exjzrGKe__ph"
      },
      "execution_count": null,
      "outputs": []
    }
  ]
}