{
  "nbformat": 4,
  "nbformat_minor": 0,
  "metadata": {
    "colab": {
      "provenance": [],
      "authorship_tag": "ABX9TyM7QmjF8AUl4hGXFlI6EM9w",
      "include_colab_link": true
    },
    "kernelspec": {
      "name": "python3",
      "display_name": "Python 3"
    },
    "language_info": {
      "name": "python"
    }
  },
  "cells": [
    {
      "cell_type": "markdown",
      "metadata": {
        "id": "view-in-github",
        "colab_type": "text"
      },
      "source": [
        "<a href=\"https://colab.research.google.com/github/cocomarine25/EnglishPhonetics/blob/main/0412_memo.ipynb\" target=\"_parent\"><img src=\"https://colab.research.google.com/assets/colab-badge.svg\" alt=\"Open In Colab\"/></a>"
      ]
    },
    {
      "cell_type": "code",
      "execution_count": null,
      "metadata": {
        "id": "-FToI7aT_NYI"
      },
      "outputs": [],
      "source": []
    },
    {
      "cell_type": "markdown",
      "source": [
        "XML은 <>안에 있는 글씨. ML은 markup language를 말한다.\n",
        "\n",
        "지금 표준은 무조건 json이다. xml을 사용하지 않는 이유는 너무 무거워서 그렇다.\n",
        "json은 딕트(?)와 똑같다.\n",
        "\n",
        "딕트는 {}안에 있는 글씨를 말한다. {key : value}로 이루어진다.\n",
        "\n",
        "파이썬에서는 딕트라고 하고, 파이썬 외에서는 json이라고 한다.(서버와 클라이언트 간의 데이터 커뮤니케이션을 위한 것)\n",
        "\n"
      ],
      "metadata": {
        "id": "SQtyA9wA_Pc0"
      }
    },
    {
      "cell_type": "code",
      "source": [
        "# 이런게 json이다.\n",
        " {\"response\":{\"header\":{\"resultCode\":\"00\",\"resultMsg\":\"NORMAL SERVICE.\"},\"body\":{\"items\":{\"item\":[{\"srchCd\":\"03\",\"srchCdNm\":\"응급의료기관\"},{\"srchCd\":\"04\",\"srchCdNm\":\"성인 중환자실\"},{\"srchCd\":\"05\",\"srchCdNm\":\"신생아 중환자실\"},{\"srchCd\":16,\"srchCdNm\":\"인공와우 실시기관\"},{\"srchCd\":\"C8\",\"srchCdNm\":\"결핵환자 재택의료 시범기관\"},{\"srchCd\":\"C9\",\"srchCdNm\":\"암환자 재택의료 시범기관\"},{\"srchCd\":\"F1\",\"srchCdNm\":\"간호사 교대제 개선 시범사업\"},{\"srchCd\":\"F2\",\"srchCdNm\":\"경피적 대동맥판삽입(TAVI) 실시기관\"},{\"srchCd\":\"KH\",\"srchCdNm\":\"간호간병통합서비스 제공기관\"},{\"srchCd\":\"S5\",\"srchCdNm\":\"HPV 예방접종사업 참여기관\"}]},\"numOfRows\":10,\"pageNo\":1,\"totalCount\":14}}}"
      ],
      "metadata": {
        "colab": {
          "base_uri": "https://localhost:8080/"
        },
        "id": "hD3ZguB8_pBf",
        "outputId": "f086fda0-e570-498f-931f-e9d0122d988a"
      },
      "execution_count": 1,
      "outputs": [
        {
          "output_type": "execute_result",
          "data": {
            "text/plain": [
              "{'response': {'header': {'resultCode': '00', 'resultMsg': 'NORMAL SERVICE.'},\n",
              "  'body': {'items': {'item': [{'srchCd': '03', 'srchCdNm': '응급의료기관'},\n",
              "     {'srchCd': '04', 'srchCdNm': '성인 중환자실'},\n",
              "     {'srchCd': '05', 'srchCdNm': '신생아 중환자실'},\n",
              "     {'srchCd': 16, 'srchCdNm': '인공와우 실시기관'},\n",
              "     {'srchCd': 'C8', 'srchCdNm': '결핵환자 재택의료 시범기관'},\n",
              "     {'srchCd': 'C9', 'srchCdNm': '암환자 재택의료 시범기관'},\n",
              "     {'srchCd': 'F1', 'srchCdNm': '간호사 교대제 개선 시범사업'},\n",
              "     {'srchCd': 'F2', 'srchCdNm': '경피적 대동맥판삽입(TAVI) 실시기관'},\n",
              "     {'srchCd': 'KH', 'srchCdNm': '간호간병통합서비스 제공기관'},\n",
              "     {'srchCd': 'S5', 'srchCdNm': 'HPV 예방접종사업 참여기관'}]},\n",
              "   'numOfRows': 10,\n",
              "   'pageNo': 1,\n",
              "   'totalCount': 14}}}"
            ]
          },
          "metadata": {},
          "execution_count": 1
        }
      ]
    },
    {
      "cell_type": "code",
      "source": [],
      "metadata": {
        "id": "exjzrGKe__ph"
      },
      "execution_count": null,
      "outputs": []
    }
  ]
}